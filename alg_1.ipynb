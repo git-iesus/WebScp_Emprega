{
 "cells": [
  {
   "cell_type": "markdown",
   "metadata": {},
   "source": [
    "### Configurações Iniciais"
   ]
  },
  {
   "cell_type": "code",
   "execution_count": 79,
   "metadata": {},
   "outputs": [],
   "source": [
    "# Personalizando URL\n",
    "pagina_inicial = 1\n",
    "vaga_pesquisada = input('Escreva 1 palavra a ser pesquisada: ')\n",
    "url = str(f'https://empregacampinas.com.br/page/{pagina_inicial}/?s={vaga_pesquisada}')\n",
    "\n",
    "# Selenium , Pandas\n",
    "from selenium import webdriver\n",
    "from selenium.webdriver.chrome.service import Service\n",
    "from selenium.webdriver.common.by import By\n",
    "import pandas as pd\n",
    "import re\n",
    "from time import sleep\n",
    "\n",
    "# Configurando o Google Chrome\n",
    "service = Service()\n",
    "options = webdriver.ChromeOptions()\n",
    "driver = webdriver.Chrome(service=service, options=options)\n",
    "driver.get(url)\n",
    "sleep(3)"
   ]
  },
  {
   "cell_type": "code",
   "execution_count": 80,
   "metadata": {},
   "outputs": [],
   "source": [
    "# URL [Chave primária]\n",
    "urls_raw = driver.find_elements(By.TAG_NAME, 'a')[5:20]\n",
    "l_urls = [link.get_attribute('href') for link in urls_raw]\n",
    "\n",
    "# Nome\n",
    "nomes_raw = driver.find_elements(By.TAG_NAME,'h2')\n",
    "l_nomes = [nome.text for nome in nomes_raw]"
   ]
  },
  {
   "cell_type": "markdown",
   "metadata": {},
   "source": [
    "### Raspagem Link a Link"
   ]
  },
  {
   "cell_type": "code",
   "execution_count": null,
   "metadata": {},
   "outputs": [],
   "source": [
    "# Definindo Listas\n",
    "l_requisitos = []\n",
    "l_salarios = []\n",
    "l_beneficios = []\n",
    "l_emails = []\n",
    "l_siglas = []\n",
    "l_destinatarios = []\n",
    "\n",
    "\n",
    "# Automação entrando em cada Link\n",
    "for vaga in nomes_raw:\n",
    "    vaga.click()\n",
    "\n",
    "\n",
    "\n",
    "    driver.back()"
   ]
  },
  {
   "cell_type": "markdown",
   "metadata": {},
   "source": [
    "### CONTINUAR DAQUI (https://www.youtube.com/watch?v=XLkxOBY965w)"
   ]
  },
  {
   "cell_type": "code",
   "execution_count": 45,
   "metadata": {},
   "outputs": [],
   "source": [
    "# Requisitos\n",
    "requisitos = driver.find_elements(By.TAG_NAME,'p')\n",
    "print(requisitos[3].text.replace('Requisitos: ',''))\n",
    "\n",
    "# Salário \n",
    "salario = driver.find_elements(By.TAG_NAME,'p')\n",
    "print(salario[4].text.replace('Salário: ',''))\n",
    "\n",
    "# Benefícios\n",
    "beneficios = driver.find_elements(By.TAG_NAME,'p')\n",
    "print(beneficios[5].text.replace('Benefícios: ',''))\n",
    "\n",
    "# Email , Sigla , Destinatário\n",
    "\n",
    "email_raw = driver.find_elements(By.TAG_NAME,'p')[9].text.replace('Benefícios: ','')\n",
    "\n",
    "# email\n",
    "inicio_email = re.search('o e-mail ',email_raw).end()\n",
    "fim_email = re.search(' com a sigla',email_raw).start()\n",
    "email_final = (email_raw[inicio_email:fim_email])\n",
    "\n",
    "#sigla\n",
    "inicio_sigla = re.search('com a sigla ',email_raw).end()\n",
    "fim_sigla = re.search(' no campo',email_raw).start()\n",
    "sigla_final = (email_raw[inicio_sigla:fim_sigla])\n",
    "\n",
    "#destinatário\n",
    "inicio_d = re.search('cuidados de ',email_raw).end()\n",
    "fim_d = re.search(' para o e-m',email_raw).start()\n",
    "d_final = (email_raw[inicio_d:fim_d])"
   ]
  },
  {
   "cell_type": "code",
   "execution_count": null,
   "metadata": {},
   "outputs": [],
   "source": [
    "#LINK\n",
    "#https://www.youtube.com/watch?v=XLkxOBY965w"
   ]
  }
 ],
 "metadata": {
  "kernelspec": {
   "display_name": "Python 3",
   "language": "python",
   "name": "python3"
  },
  "language_info": {
   "codemirror_mode": {
    "name": "ipython",
    "version": 3
   },
   "file_extension": ".py",
   "mimetype": "text/x-python",
   "name": "python",
   "nbconvert_exporter": "python",
   "pygments_lexer": "ipython3",
   "version": "3.12.6"
  }
 },
 "nbformat": 4,
 "nbformat_minor": 2
}
